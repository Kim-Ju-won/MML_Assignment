{
  "metadata": {
    "kernelspec": {
      "name": "python",
      "display_name": "Python (Pyodide)",
      "language": "python"
    },
    "language_info": {
      "codemirror_mode": {
        "name": "python",
        "version": 3
      },
      "file_extension": ".py",
      "mimetype": "text/x-python",
      "name": "python",
      "nbconvert_exporter": "python",
      "pygments_lexer": "ipython3",
      "version": "3.8"
    }
  },
  "nbformat_minor": 5,
  "nbformat": 4,
  "cells": [
    {
      "cell_type": "markdown",
      "source": "## Transformation Matrix",
      "metadata": {},
      "id": "aa6638b0"
    },
    {
      "cell_type": "markdown",
      "source": "<img src=\"linear_transform.png\">",
      "metadata": {},
      "id": "a05ac95c"
    },
    {
      "cell_type": "code",
      "source": "x = [[3,2],[5,6]]",
      "metadata": {
        "trusted": true
      },
      "execution_count": 1,
      "outputs": [],
      "id": "a11472d6"
    },
    {
      "cell_type": "markdown",
      "source": "$A_1= \\left [ \\begin{bmatrix} cos(\\frac{\\pi}{4}) & - sin(\\frac{\\pi}{4}) \\\\ sin(\\frac{\\pi}{4}) & cos(\\frac{\\pi}{4}) \\end{bmatrix} \\right ]$",
      "metadata": {},
      "id": "50b55145"
    },
    {
      "cell_type": "code",
      "source": "import numpy as np\ndef transformation_matrix_rotate(matrix):\n    # Rotate 45 degree\n    theta = np.radians(45)\n    c, s = np.cos(theta), np.sin(theta)\n    R = np.array(((c,-s),(s,c)))\n    y = np.dot(matrix, R)\n    return y\n\ntransformation_matrix_rotate(x)",
      "metadata": {
        "trusted": true
      },
      "execution_count": 3,
      "outputs": [
        {
          "execution_count": 3,
          "output_type": "execute_result",
          "data": {
            "text/plain": "array([[ 3.53553391, -0.70710678],\n       [ 7.77817459,  0.70710678]])"
          },
          "metadata": {}
        }
      ],
      "id": "22a1c920"
    },
    {
      "cell_type": "markdown",
      "source": "$A_2= \\left [ \\begin{bmatrix} 2 & 0 \\\\ 0 & 1 \\end{bmatrix} \\right ]$",
      "metadata": {},
      "id": "1faf134e"
    },
    {
      "cell_type": "code",
      "source": "def transformation_matrix_scaling(matrix):\n    A2 = [[2, 0],[0,1]]\n    y = np.dot(A2, matrix)\n    return y\n\ntransformation_matrix_scaling(x)",
      "metadata": {
        "trusted": true
      },
      "execution_count": 4,
      "outputs": [
        {
          "execution_count": 4,
          "output_type": "execute_result",
          "data": {
            "text/plain": "array([[6, 4],\n       [5, 6]])"
          },
          "metadata": {}
        }
      ],
      "id": "7d1776d5"
    },
    {
      "cell_type": "code",
      "source": "def transformation_matrix_general(matrix):\n    A3 = [[3, -1],[1,-1]]\n    y = np.dot(A3, matrix)\n    return y\n\ntransformation_matrix_general(x)",
      "metadata": {
        "trusted": true
      },
      "execution_count": 5,
      "outputs": [
        {
          "execution_count": 5,
          "output_type": "execute_result",
          "data": {
            "text/plain": "array([[ 4,  0],\n       [-2, -4]])"
          },
          "metadata": {}
        }
      ],
      "id": "32941486"
    },
    {
      "cell_type": "markdown",
      "source": "## Example : Image Transform using Transform matrix\n\n\nPython의 ```OpenCV``` 패키지를 이용하면 이미지를 회전시키거나 대칭이동, 평행이동을 하여 쉽게 augmented image를 만들 수 있지만,\n\nTransform matrix를 이용해서도 이미지를 변형시킬 수 있다. \n\n아래는 transform matrix를 이용한 image transform 예시이다.\n",
      "metadata": {},
      "id": "55459e31"
    },
    {
      "cell_type": "code",
      "source": "import numpy as np\nimport matplotlib.pyplot as plt\n\n## Load image\nimg_color = plt.imread('my_image.jpg')\nh, w, d = img_color.shape\nrotated_image = np.zeros([h, w, d])\n\nimg_red = img_color[:,:,0]\nimg_green = img_color[:,:,1]\nimg_blue = img_color[:,:,2]\n\n\n## Rotating Matrix : rotate 45 degree \ntheta = np.radians(45)\nR = np.array([[np.cos(theta), -np.sin(theta)], [np.sin(theta), np.cos(theta)]])\n\n\n## Image Rotating Using rotating Matrix\nR = R * 3/5                                           # Scaling : 전체 사진을 1.666 (=5/3)배로 확대\npoints = np.mgrid[0:h, 0:w].reshape((2, w*h))         # Image 전체에 대한 grid 좌표 생성\nnew_points = R.dot(points).round().astype(int)        # Rotate Grid\n\n\nnew_points[0] = new_points[0] + 450                   # Shift Coordinate (고양이 얼굴 보이도록) \nnew_points[1] = new_points[1] - 25              \n\nx, y = new_points.reshape((2, h, w), order='F')       # Grid의 x좌표와 y좌표를 분리\nindices = x + h*y                                     # Matrix의 index 형태로 좌표를 변환\n\n\nrot_img_red = np.take(img_red, indices, mode='wrap')  # 각 grid에 해당하는 점의 값을 불러옴\nrot_img_green = np.take(img_green, indices, mode='wrap')\nrot_img_blue = np.take(img_blue, indices, mode='wrap')\n\nrotated_image[:,:,0] = rot_img_red                    # rgb를 합침\nrotated_image[:,:,1] = rot_img_green\nrotated_image[:,:,2] = rot_img_blue\nrotated_image /= 255                                  # uint8에서 float type으로 데이터타입이 변경됨 -> 최대값을 1로 맞춰줌",
      "metadata": {
        "trusted": true
      },
      "execution_count": 6,
      "outputs": [],
      "id": "199b2ac9"
    },
    {
      "cell_type": "code",
      "source": "plt.imshow(img_color)",
      "metadata": {
        "trusted": true
      },
      "execution_count": 7,
      "outputs": [
        {
          "execution_count": 7,
          "output_type": "execute_result",
          "data": {
            "text/plain": "<matplotlib.image.AxesImage at 0x37dfb68>"
          },
          "metadata": {}
        }
      ],
      "id": "82538f2f"
    },
    {
      "cell_type": "code",
      "source": "plt.imshow(rotated_image)",
      "metadata": {
        "trusted": true
      },
      "execution_count": 8,
      "outputs": [
        {
          "execution_count": 8,
          "output_type": "execute_result",
          "data": {
            "text/plain": "<matplotlib.image.AxesImage at 0x3764828>"
          },
          "metadata": {}
        }
      ],
      "id": "8254f1d3"
    },
    {
      "cell_type": "markdown",
      "source": "## Exercise : Basis Change",
      "metadata": {},
      "id": "dc528ce3"
    },
    {
      "cell_type": "markdown",
      "source": "선형 사상 $\\Psi : \\mathbb{R}^{m} \\rightarrow \\mathbb{R}^n$에 대한 행렬 $A_{\\Psi}$가 있다.\n\nbasis를 표준 기저(standard basis) $B \\in \\mathbb{R}^{m}, C \\in \\mathbb{R}^{n}$에서 임의의 basis $ \\tilde{B} \\in \\mathbb{R}^{m}, \\tilde{C} \\in \\mathbb{R}^{n}$로 바꾸려고 할 때,\n\n행렬 $A_{\\Psi}$를 input으로 받아 basis change된 행렬 $ \\tilde{A}_{\\Psi} $를 output으로 내는 함수를 만들어보자.\n\n<br>\n\n**Hint**\n\n$\\tilde{B} \\rightarrow B$에 대한 행렬 $S$는 $\\tilde{B} = BS$ 로 표현가능하며,\n\n$\\tilde{C} \\rightarrow C$에 대한 행렬 $T$는 $\\tilde{C} = CT$ 로 표현가능하다.\n\n이러한 행렬 $T$와 $S$에 대해 $\\tilde{A}_{\\Psi} = T^{-1} A_{\\Psi} S$이다.",
      "metadata": {},
      "id": "15108003"
    },
    {
      "cell_type": "code",
      "source": "import numpy as np\n\ndef basis_change(A, B_tilde, C_tilde):\n    \"\"\"\n    Arguments:\n    A : linear mapping matrix, size=(m,n)\n    B_tilde : changed basis matrix of R^m, size=(n,n)\n    C_tilde : changed basis matrix of R^n, size=(m,m)\n    \n    Returns:\n    A_tilde : changed linear mapping matrix due to basis change, size=(m,n)    \n    \"\"\"\n    A_tilde = np.linalg.inv(C_tilde)@A@B_tilde\n    \n    return A_tilde\n\n    \n\n# Test sample from example 2.24\nA = np.array([[1, 2, 0], [-1, 1, 3], [3, 7, 1], [-1, 2, 4]])\nB = np.eye(3)\nB_tilde = np.array([[1, 0, 1], [1, 1, 0], [0, 1, 1]])\nC = np.eye(4)\nC_tilde = np.array([[1, 1, 0, 1], [1, 0, 1, 0], [0, 1, 1, 0], [0, 0, 0, 1]])\nprint(basis_change(A, B_tilde, C_tilde))\n# Then answer is\nA_tilde = np.array([[-4, -4, -2], [6, 0, 0], [4, 8, 4], [1, 6, 3]], dtype=float)\nprint(A_tilde)",
      "metadata": {
        "trusted": true
      },
      "execution_count": 15,
      "outputs": [
        {
          "name": "stdout",
          "text": "[[-4. -4. -2.]\n [ 6.  0.  0.]\n [ 4.  8.  4.]\n [ 1.  6.  3.]]\n[[-4. -4. -2.]\n [ 6.  0.  0.]\n [ 4.  8.  4.]\n [ 1.  6.  3.]]\n",
          "output_type": "stream"
        }
      ],
      "id": "c233b5ff"
    }
  ]
}